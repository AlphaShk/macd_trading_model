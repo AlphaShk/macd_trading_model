{
 "cells": [
  {
   "cell_type": "markdown",
   "metadata": {},
   "source": [
    "# MACD Trading Model"
   ]
  },
  {
   "cell_type": "markdown",
   "metadata": {},
   "source": [
    "Import packages"
   ]
  },
  {
   "cell_type": "code",
   "execution_count": null,
   "metadata": {},
   "outputs": [],
   "source": [
    "import yfinance as yf\n",
    "import pandas as pd\n",
    "import numpy as np\n",
    "import matplotlib.pyplot as plt \n",
    "import seaborn as sns \n",
    "import pandas_datareader as pdr\n",
    "from datetime import date\n",
    "\n",
    "from trading_tools import MACD_Model"
   ]
  },
  {
   "cell_type": "code",
   "execution_count": null,
   "metadata": {},
   "outputs": [],
   "source": [
    "sns.set_context(\"notebook\")"
   ]
  },
  {
   "cell_type": "markdown",
   "metadata": {},
   "source": [
    "## 1. Backtesting"
   ]
  },
  {
   "cell_type": "markdown",
   "metadata": {},
   "source": [
    "For my model I picked Erste Bank AG stock to trade, as it is quite volatile and has interesting patterns in it. I didn't pick any ETFs, because I wanted to test how mmy model would handle risky asset with volatile periods. Austrian market is quite illiquid as well, so it is an interesting case to study by using such a model. "
   ]
  },
  {
   "cell_type": "code",
   "execution_count": null,
   "metadata": {},
   "outputs": [],
   "source": [
    "stock = yf.download('EBS.VI',start = \"1980-01-01\",end = \"2025-01-01\")"
   ]
  },
  {
   "cell_type": "code",
   "execution_count": null,
   "metadata": {},
   "outputs": [],
   "source": [
    "plt.figure(figsize=(15,10))\n",
    "stock['Adj Close'].plot()\n",
    "plt.grid()\n",
    "plt.ylabel('Adj Close')\n",
    "plt.title('Erste Bank AG')"
   ]
  },
  {
   "cell_type": "markdown",
   "metadata": {},
   "source": [
    "Let's analyse the strategy: we have two thresholds $MA_l$ and $MA_s$ for length of moving average window that would be adjustable and tunable later in `MACD_Model`"
   ]
  },
  {
   "cell_type": "code",
   "execution_count": null,
   "metadata": {},
   "outputs": [],
   "source": [
    "plt.figure(figsize=(15,10))\n",
    "stock['MA Long'] = stock['Adj Close'].rolling(window=26).mean()\n",
    "stock['MA Short'] = stock['Adj Close'].rolling(window=9).mean()\n",
    "stock.dropna(inplace=True)\n",
    "stock.iloc[100:500][['Adj Close','MA Long', 'MA Short']].plot()\n",
    "plt.grid()"
   ]
  },
  {
   "cell_type": "code",
   "execution_count": null,
   "metadata": {},
   "outputs": [],
   "source": [
    "plt.figure(figsize=(15,10))\n",
    "stock['MA_l > MA_s'] = np.where(stock['MA Long'] > stock['MA Short'], stock['Adj Close'], None)\n",
    "stock['MA_l < MA_s'] = np.where(stock['MA Long'] < stock['MA Short'], stock['Adj Close'], None)\n",
    "stock.iloc[100:500][['MA Long', 'MA Short', 'MA_l > MA_s', 'MA_l < MA_s']].plot(figsize=(10,5))\n",
    "stock.drop(['MA_l < MA_s','MA_l > MA_s'],axis=1,inplace=True)\n",
    "plt.grid()"
   ]
  },
  {
   "cell_type": "markdown",
   "metadata": {},
   "source": [
    "Use developed model and train the hyperparameters $MA_l, MA_s$"
   ]
  },
  {
   "cell_type": "code",
   "execution_count": null,
   "metadata": {},
   "outputs": [],
   "source": [
    "model = MACD_Model(stock)\n",
    "optimized_params = model.tune('2000','2012')"
   ]
  },
  {
   "cell_type": "code",
   "execution_count": null,
   "metadata": {},
   "outputs": [],
   "source": [
    "PARAMS = np.round(optimized_params)[0]\n",
    "# PARAMS = [80,50]"
   ]
  },
  {
   "cell_type": "code",
   "execution_count": null,
   "metadata": {},
   "outputs": [],
   "source": [
    "model = MACD_Model(stock)\n",
    "model.set_params(PARAMS)\n",
    "simulation_results,metrics = model.run_simulation('2014','2024')"
   ]
  },
  {
   "cell_type": "markdown",
   "metadata": {},
   "source": [
    "Analyse the metrics(ann. return, ann. volatility, Sharpe ratio(composed from ann.ret. and ann.vol.)) on the test interval 2014-2024. Returns are quite low, but later I show that volatility is actually lower than if Buy and Hold strategy on this stock would be used(even though I use parameters for bigger Sharpe ratio in this and later examples)"
   ]
  },
  {
   "cell_type": "markdown",
   "metadata": {},
   "source": [
    "~4% is an actually good result, keeping in mind we are dealing with Austrian market(average inflation rate in this period is <a href=\"https://tradingeconomics.com/austria/inflation-cpi\">lower than 4%</a>) "
   ]
  },
  {
   "cell_type": "markdown",
   "metadata": {},
   "source": [
    "Buy and Hold: volatility is higher than MACD model's volatility and Sharpe ratio is higher. "
   ]
  },
  {
   "cell_type": "code",
   "execution_count": null,
   "metadata": {},
   "outputs": [],
   "source": [
    "plt.figure(figsize=(15,10))\n",
    "plt.plot(simulation_results['Capital'],label='Model')\n",
    "\n",
    "ebs_14_24 = yf.download('EBS.VI',start = \"2014-01-01\",end = \"2024-01-01\")\n",
    "ret = ebs_14_24['Adj Close'].pct_change().dropna()\n",
    "\n",
    "years = ebs_14_24.shape[0]/252\n",
    "totret = (ret + 1).prod() - 1\n",
    "annret = (1 + totret) ** (1 / years) - 1\n",
    "\n",
    "vol = ret.std()\n",
    "annvol = vol * np.sqrt(252)\n",
    "\n",
    "rf = 0 # Risk free rate for Buy and Hold, use 0 for simplicity\n",
    "sr =  (annret - rf) / annvol \n",
    "\n",
    "import yaml \n",
    "with open('config.yaml') as file: \n",
    "    config = yaml.safe_load(file)\n",
    "\n",
    "\n",
    "plt.plot(ebs_14_24['Adj Close']/ebs_14_24['Adj Close'].iloc[0]*config['initial_capital'],label='Buy and Hold')\n",
    "plt.grid()\n",
    "plt.title('Models comparison on test data')\n",
    "plt.legend()\n",
    "print('                      Returns        Volatility         Sharpe Ratio')\n",
    "print('Model metrics:',metrics.ret,metrics.vol,metrics.sr)\n",
    "print('Buy and Hold:',annret,annvol,sr)"
   ]
  },
  {
   "cell_type": "markdown",
   "metadata": {},
   "source": [
    "We get a trade-off in volatility as it is lower than benchmark strat., because the model handles big jumps in stock better, although the returns are lower "
   ]
  },
  {
   "cell_type": "markdown",
   "metadata": {},
   "source": [
    "Let's see what happens on train data: "
   ]
  },
  {
   "cell_type": "code",
   "execution_count": null,
   "metadata": {},
   "outputs": [],
   "source": [
    "plt.figure(figsize=(15,10))\n",
    "model = MACD_Model(stock)\n",
    "model.set_params(PARAMS)\n",
    "simulation_results,metrics = model.run_simulation('2000','2012')\n",
    "plt.plot(simulation_results['Capital'],label='MACD')\n",
    "\n",
    "ebs_14_24 = yf.download('EBS.VI',start = \"2000-01-01\",end = \"2012-01-01\")\n",
    "ret = ebs_14_24['Adj Close'].pct_change().dropna()\n",
    "\n",
    "years = ebs_14_24.shape[0]/252\n",
    "totret = (ret + 1).prod() - 1\n",
    "annret = (1 + totret) ** (1 / years) - 1\n",
    "\n",
    "vol = ret.std()\n",
    "annvol = vol * np.sqrt(252)\n",
    "\n",
    "rf = 0 # Risk free rate for Buy and Hold, use 0 for simplicity\n",
    "sr =  (annret - rf) / annvol \n",
    "\n",
    "import yaml \n",
    "with open('config.yaml') as file: \n",
    "    config = yaml.safe_load(file)\n",
    "\n",
    "plt.plot(ebs_14_24['Adj Close']/ebs_14_24['Adj Close'].iloc[0]*config['initial_capital'],label='Buy and Hold')\n",
    "plt.grid()\n",
    "plt.title('Models comparison on train data')\n",
    "plt.legend()\n",
    "print('Model metrics:',metrics.ret,metrics.vol,metrics.sr)\n",
    "print('Buy and Hold:',annret,annvol,sr)"
   ]
  },
  {
   "cell_type": "markdown",
   "metadata": {},
   "source": [
    "All metrics of our model are much more better. This however was used as an example and shouldn't showcase peformance of a real model, as the tuning of hyperparameters might be overfitted"
   ]
  },
  {
   "cell_type": "markdown",
   "metadata": {},
   "source": [
    "Performance on the entire timeframe: "
   ]
  },
  {
   "cell_type": "code",
   "execution_count": null,
   "metadata": {},
   "outputs": [],
   "source": [
    "plt.figure(figsize=(15,10))\n",
    "model = MACD_Model(stock)\n",
    "model.set_params(PARAMS)\n",
    "simulation_results,metrics = model.run_simulation('2000','2024')\n",
    "plt.plot(simulation_results['Asset'],label='Asset Value')\n",
    "plt.plot(simulation_results['Cash'],label='Cash Value')\n",
    "plt.legend()\n",
    "plt.title('Model Capital 2000-2024')\n",
    "plt.grid()\n",
    "metrics.ret,metrics.vol,metrics.sr"
   ]
  },
  {
   "cell_type": "markdown",
   "metadata": {},
   "source": [
    "Here are cash and asset parts of whole capital plotted as well "
   ]
  },
  {
   "cell_type": "markdown",
   "metadata": {},
   "source": [
    "## 2. Monte Carlo simulations"
   ]
  },
  {
   "cell_type": "markdown",
   "metadata": {},
   "source": [
    "Formula for future returns derived from Brownian motion equations: $$X_{t+\\Delta t} = X_t e^{(\\mu-\\frac{\\sigma^2}{2})\\Delta t+\\sigma \\varepsilon _t\\sqrt\\Delta t}$$"
   ]
  },
  {
   "cell_type": "code",
   "execution_count": null,
   "metadata": {},
   "outputs": [],
   "source": [
    "def simulate_MC(x,mu,sigma,t=252,dt=1): \n",
    "    X_t = x\n",
    "    drift = mu*dt \n",
    "    eps = np.random.normal(mu,sigma,t)\n",
    "    res = []\n",
    "    for i in range(t):\n",
    "        diff = sigma*eps[i]*np.sqrt(dt)\n",
    "        X_t_dt = X_t*np.exp(drift+diff-sigma**2/2)\n",
    "        res.append(X_t_dt)\n",
    "        X_t = X_t_dt\n",
    "    return res "
   ]
  },
  {
   "cell_type": "code",
   "execution_count": null,
   "metadata": {},
   "outputs": [],
   "source": [
    "plt.figure(figsize=(15,10))\n",
    "mu = ((stock['Adj Close'].pct_change().dropna()+1).prod())**(1/stock.shape[0])-1\n",
    "sigma = stock['Adj Close'].pct_change().dropna().std()\n",
    "x = stock.iloc[-1]['Adj Close']\n",
    "\n",
    "for _ in range(1000):\n",
    "    plt.plot(simulate_MC(x,mu,sigma))\n",
    "plt.title('MC Simulation of stock paths')\n",
    "plt.ylabel('Adj Close')\n",
    "plt.xlabel('Day')\n",
    "plt.grid()"
   ]
  },
  {
   "cell_type": "markdown",
   "metadata": {},
   "source": [
    "One more time, but with previous adj. close prices(simulated paths are not accurate, but still can be used for our analysis)"
   ]
  },
  {
   "cell_type": "code",
   "execution_count": null,
   "metadata": {},
   "outputs": [],
   "source": [
    "plt.figure(figsize=(15,10))\n",
    "stock_pred=stock.iloc[:,-100:].copy()\n",
    "mu = ((stock['Adj Close'].pct_change().dropna()+1).prod())**(1/stock.shape[0])-1\n",
    "sigma = stock['Adj Close'].pct_change().dropna().std()\n",
    "x = stock.iloc[-1]['Adj Close']\n",
    "\n",
    "for _ in range(1000):\n",
    "    stock_pred=stock.iloc[-100:]['Adj Close'].copy()\n",
    "    stock_pred = pd.concat([stock_pred,pd.Series(simulate_MC(x,mu,sigma))])\n",
    "    stock_pred.reset_index(drop=True).plot()\n",
    "\n",
    "plt.title('MC Simulation of stock paths')\n",
    "plt.ylabel('Adj Close')\n",
    "plt.xlabel('Day')\n",
    "plt.grid()"
   ]
  },
  {
   "cell_type": "code",
   "execution_count": null,
   "metadata": {},
   "outputs": [],
   "source": [
    "plt.figure(figsize=(15,10))\n",
    "mu = ((stock['Adj Close'].pct_change().dropna()+1).prod())**(1/stock.shape[0])-1\n",
    "sigma = stock['Adj Close'].pct_change().dropna().std()\n",
    "x = stock.iloc[-1]['Adj Close']\n",
    "\n",
    "def var_historic(data: pd.DataFrame, level = 99):\n",
    "    return -np.percentile(data, (100 - level))\n",
    "def cvar_historic(data: pd.DataFrame, level = 99):\n",
    "    is_beyond = data <= -var_historic(data, level = level)\n",
    "    return -data[is_beyond].mean()\n",
    "\n",
    "returns = []\n",
    "var_cvar = []\n",
    "\n",
    "for _ in range(1000):\n",
    "    gen_df = pd.DataFrame({'Adj Close': simulate_MC(x,mu,sigma)})\n",
    "\n",
    "    df = pd.concat([stock.reset_index(), gen_df])[-360:].reset_index()[['Adj Close']]\n",
    "    df['MA Long'] = df['Adj Close'].rolling(window=int(PARAMS[0])).mean()\n",
    "    df['MA Short'] = df['Adj Close'].rolling(window=int(PARAMS[1])).mean()\n",
    "    df = df.iloc[-252:]\n",
    "    \n",
    "    model_mc = MACD_Model()\n",
    "    model_mc.ir_const = True\n",
    "    sim,_ = model_mc.run_simulation(data=df)\n",
    "    rets = sim['Capital'].pct_change().dropna()\n",
    "    var_cvar.append([var_historic(rets),cvar_historic(rets)])\n",
    "    returns.append(-model_mc.calculate_metrics('return'))\n",
    "    sim['Capital'].plot()\n",
    "plt.title('Model performance on sim. data')\n",
    "plt.ylabel('Capital')\n",
    "plt.xlabel('Day')\n",
    "plt.grid()"
   ]
  },
  {
   "cell_type": "code",
   "execution_count": null,
   "metadata": {},
   "outputs": [],
   "source": [
    "plt.hist(returns,50,density=1)\n",
    "plt.title('Returns distribution on sim. data')\n",
    "plt.ylabel('Capital')\n",
    "plt.xlabel('Day')\n",
    "plt.grid()"
   ]
  },
  {
   "cell_type": "markdown",
   "metadata": {},
   "source": [
    "From the distribution and model performance(see graph) one can derive that model trades successfully on predicted data. "
   ]
  },
  {
   "cell_type": "code",
   "execution_count": null,
   "metadata": {},
   "outputs": [],
   "source": [
    "print('VaR                    CVaR')\n",
    "print(tuple(np.mean(var_cvar,axis=0)))"
   ]
  },
  {
   "cell_type": "markdown",
   "metadata": {},
   "source": [
    "## 3. FED Scenario Analysis"
   ]
  },
  {
   "cell_type": "code",
   "execution_count": null,
   "metadata": {},
   "outputs": [],
   "source": [
    "today = date.today()"
   ]
  },
  {
   "cell_type": "code",
   "execution_count": null,
   "metadata": {},
   "outputs": [],
   "source": [
    "def transform_returns(data,n_cols):\n",
    "    '''\n",
    "    Help function to transform data into annualized returns\n",
    "    '''\n",
    "    n_rows = int(np.ceil(len(data) / n_cols))\n",
    "    total_elements = n_rows * n_cols\n",
    "    padded_vector = np.pad(data, (0, total_elements - len(data)), 'constant')\n",
    "    r = padded_vector.reshape(n_rows, n_cols).T\n",
    "    ret = np.prod(r+1,axis=0) ** (1/252) -1\n",
    "    return ret "
   ]
  },
  {
   "cell_type": "markdown",
   "metadata": {},
   "source": [
    "Here I use German market indicator DAX, as it is as close as I can get to Austrian without dealing with missing values of eariler periods"
   ]
  },
  {
   "cell_type": "code",
   "execution_count": null,
   "metadata": {},
   "outputs": [],
   "source": [
    "dax = yf.download('DAX',start = '2015-01-01',end = today)\n",
    "dax['Adj Close'].pct_change().dropna()"
   ]
  },
  {
   "cell_type": "code",
   "execution_count": null,
   "metadata": {},
   "outputs": [],
   "source": [
    "dax[dax.index >= '2024'].shape[0] # note that 2024 is not over :-(, use this number instead of 252 to be more precise for ann.ret. calculation"
   ]
  },
  {
   "cell_type": "code",
   "execution_count": null,
   "metadata": {},
   "outputs": [],
   "source": [
    "dax_r = np.array(dax['Adj Close'].pct_change().dropna())\n",
    "ret_m = transform_returns(dax_r,252)"
   ]
  },
  {
   "cell_type": "code",
   "execution_count": null,
   "metadata": {},
   "outputs": [],
   "source": [
    "ebs = yf.download('EBS.VI',start = \"2015-01-01\",end = today)\n",
    "ebs_r = np.array(ebs['Adj Close'].pct_change().dropna())\n",
    "\n",
    "ret = transform_returns(ebs_r,252)"
   ]
  },
  {
   "cell_type": "code",
   "execution_count": null,
   "metadata": {},
   "outputs": [],
   "source": [
    "rf = pd.DataFrame(pdr.DataReader('FEDFUNDS', 'fred',start = \"2015-01-01\",end = today) / 100)\n",
    "rf"
   ]
  },
  {
   "cell_type": "code",
   "execution_count": null,
   "metadata": {},
   "outputs": [],
   "source": [
    "rf_r = transform_returns(rf.FEDFUNDS,12)"
   ]
  },
  {
   "cell_type": "code",
   "execution_count": null,
   "metadata": {},
   "outputs": [],
   "source": [
    "adj_a_r = ret - rf_r\n",
    "adj_m_r = ret_m - rf_r"
   ]
  },
  {
   "cell_type": "markdown",
   "metadata": {},
   "source": [
    "Regress adj.asset returns on adj. market returns using least squares(lin.regressor can be used as well, but in this case with 10x1 data let's use the simpler one as one is based on another)"
   ]
  },
  {
   "cell_type": "code",
   "execution_count": null,
   "metadata": {},
   "outputs": [],
   "source": [
    "b, residuals, rank, s = np.linalg.lstsq(np.atleast_2d(adj_m_r).T, np.atleast_2d(adj_a_r).T, rcond=None)"
   ]
  },
  {
   "cell_type": "code",
   "execution_count": null,
   "metadata": {},
   "outputs": [],
   "source": [
    "BETA = b[0,0]\n",
    "print('Beta for CAPM')\n",
    "print(BETA)"
   ]
  },
  {
   "cell_type": "code",
   "execution_count": null,
   "metadata": {},
   "outputs": [],
   "source": [
    "r_m_last = ret_m[-1]\n",
    "r_f_last = rf.iloc[-1].FEDFUNDS"
   ]
  },
  {
   "cell_type": "code",
   "execution_count": null,
   "metadata": {},
   "outputs": [],
   "source": [
    "def get_rf(bp,p,n_path): \n",
    "    v = np.random.choice([1, 0], size=(n_path,2), p=[p, 1-p])\n",
    "    dist = v * bp * 1e-4 \n",
    "    return dist + (r_f_last+1)**(1/252) -1 \n",
    "get_rf(25,0.6,1000) "
   ]
  },
  {
   "cell_type": "code",
   "execution_count": null,
   "metadata": {},
   "outputs": [],
   "source": [
    "def fed_sim(bp,p,n_path): \n",
    "    '''\n",
    "    Function for simulation of FED dropping/raising interest rates\n",
    "    '''\n",
    "    rf = get_rf(bp,p,n_path)\n",
    "\n",
    "    mu = ((ebs['Adj Close'].pct_change().dropna()+1).prod())**(1/stock.shape[0])-1\n",
    "    sigma = ebs['Adj Close'].pct_change().dropna().std()\n",
    "    capital = []\n",
    "    asset = []\n",
    "    for i in range(n_path):\n",
    "\n",
    "        m = rf[i] + BETA * ((r_m_last+1)**(1/252)-1-rf[i])\n",
    "\n",
    "        x = ebs.iloc[-1]['Adj Close']\n",
    "        df1 = pd.DataFrame({'Adj Close': simulate_MC(x,mu,sigma,t=84)})\n",
    "        x = df1['Adj Close'].iloc[-1]\n",
    "\n",
    "        x += x*m[0]\n",
    "\n",
    "        df2 = pd.DataFrame({'Adj Close': simulate_MC(x,mu,sigma,t=84)})\n",
    "        x = df2['Adj Close'].iloc[-1]\n",
    "\n",
    "        x += x*m[1]\n",
    "\n",
    "        df3 = pd.DataFrame({'Adj Close': simulate_MC(x,mu,sigma,t=84)})\n",
    "\n",
    "\n",
    "        gen_df = pd.concat([ebs[-200:],df1,df2,df3]).reset_index()\n",
    "        gen_df['MA Long'] = gen_df['Adj Close'].rolling(window=int(PARAMS[0])).mean()\n",
    "        gen_df['MA Short'] = gen_df['Adj Close'].rolling(window=int(PARAMS[1])).mean()\n",
    "        gen_df = gen_df[200:].reset_index(drop=True)\n",
    "\n",
    "        asset.append(list(gen_df['Adj Close']))\n",
    "\n",
    "        model_mc = MACD_Model()\n",
    "        model_mc.ir_const = True \n",
    "        model_mc.ir = (r_f_last+1)**(1/252) - 1 \n",
    "\n",
    "        \n",
    "        sim1,_ = model_mc.run_simulation(data=gen_df[:84])\n",
    "\n",
    "        model_mc.ir = rf[i][0]\n",
    "\n",
    "        sim2,_ = model_mc.run_simulation(data=gen_df[84:168])\n",
    "        model_mc.ir = rf[i][1]\n",
    "\n",
    "        sim3,_ = model_mc.run_simulation(data=gen_df[168:])\n",
    "        sim_df = pd.concat([sim1,sim2,sim3]).reset_index(drop=True)\n",
    "\n",
    "        capital.append(sim_df['Capital'])\n",
    "        plt.plot(sim_df['Capital']) \n",
    "    return np.array(capital),np.array(asset)"
   ]
  },
  {
   "cell_type": "code",
   "execution_count": null,
   "metadata": {},
   "outputs": [],
   "source": [
    "plt.figure(figsize=(15,10))\n",
    "cap,_ = fed_sim(25,0.6,1000)\n",
    "plt.plot([84,84],[cap.min(),cap.max()],c='r')\n",
    "plt.plot([168,168],[cap.min(),cap.max()],c='r')\n",
    "plt.title('FED Scenario A')\n",
    "plt.ylabel('Capital')\n",
    "plt.xlabel('Day')\n",
    "plt.grid()"
   ]
  },
  {
   "cell_type": "code",
   "execution_count": null,
   "metadata": {},
   "outputs": [],
   "source": [
    "plt.figure(figsize=(15,10))\n",
    "cap,asset = fed_sim(-25,0.7,1000)\n",
    "plt.plot([84,84],[cap.min(),cap.max()],c='r')\n",
    "plt.plot([168,168],[cap.min(),cap.max()],c='r')\n",
    "plt.title('FED Scenario B')\n",
    "plt.ylabel('Capital')\n",
    "plt.xlabel('Day')\n",
    "plt.grid()"
   ]
  },
  {
   "cell_type": "markdown",
   "metadata": {},
   "source": [
    "<small>I left this commented code for history :-)</small>"
   ]
  },
  {
   "cell_type": "code",
   "execution_count": null,
   "metadata": {},
   "outputs": [],
   "source": [
    "# def fed_sim(bp,p,n_path): \n",
    "#     dist = np.random.choice([1, 0], size=(n_path,2), p=[p, 1-p])\n",
    "\n",
    "#     mu = ((stock['Adj Close'].pct_change().dropna()+1).prod())**(1/stock.shape[0])-1\n",
    "#     sigma = stock['Adj Close'].pct_change().dropna().std()\n",
    "#     results = []\n",
    "#     for i in range(n_path):\n",
    "        \n",
    "#         x = stock.iloc[-1]['Adj Close']\n",
    "#         df1 = pd.DataFrame({'Adj Close': simulate_MC(x,mu,sigma,t=84)})\n",
    "#         x = df1['Adj Close'].iloc[-1]\n",
    "#         dx = bp * x * dist[i][0] * 1e-4\n",
    "#         x += dx\n",
    "#         df2 = pd.DataFrame({'Adj Close': simulate_MC(x,mu,sigma,t=84)})\n",
    "#         x = df2['Adj Close'].iloc[-1]\n",
    "#         dx = bp * x * dist[i][0] * 1e-4\n",
    "#         x += dx\n",
    "#         df3 = pd.DataFrame({'Adj Close': simulate_MC(x,mu,sigma,t=84)})\n",
    "\n",
    "#         gen_df = pd.concat([df1,df2,df3]).reset_index()\n",
    "#         results.append(list(gen_df['Adj Close']))\n",
    "#         gen_df['Adj Close'].plot()\n",
    "\n",
    "#     result = np.array(results)\n",
    "\n",
    "#     plt.plot([84,84],[result.min(),result.max()],c='r')\n",
    "#     plt.plot([168,168],[result.min(),result.max()],c='r')\n",
    "\n",
    "#     return result"
   ]
  },
  {
   "cell_type": "code",
   "execution_count": null,
   "metadata": {},
   "outputs": [],
   "source": [
    "# def fed_sim_model(bp,p,n_path): \n",
    "#     dist = np.random.choice([1, 0], size=(n_path,2), p=[p, 1-p])\n",
    "\n",
    "#     mu = ((stock['Adj Close'].pct_change().dropna()+1).prod())**(1/stock.shape[0])-1\n",
    "#     sigma = stock['Adj Close'].pct_change().dropna().std()\n",
    "#     for i in range(n_path):\n",
    "        \n",
    "#         x = stock.iloc[-1]['Adj Close']\n",
    "#         df1 = pd.DataFrame({'Adj Close': simulate_MC(x,mu,sigma,t=84)})\n",
    "#         x = df1['Adj Close'].iloc[-1]\n",
    "#         dx = bp * x * dist[i][0] * 1e-4\n",
    "#         x += dx\n",
    "#         df2 = pd.DataFrame({'Adj Close': simulate_MC(x,mu,sigma,t=84)})\n",
    "#         x = df2['Adj Close'].iloc[-1]\n",
    "#         dx = bp * x * dist[i][0] * 1e-4\n",
    "#         x += dx\n",
    "#         df3 = pd.DataFrame({'Adj Close': simulate_MC(x,mu,sigma,t=84)})\n",
    "\n",
    "#         gen_df = pd.concat([df1,df2,df3]).reset_index()\n",
    "\n",
    "#         model_mc = MACD_Model(gen_df)\n",
    "#         model_mc.set_params([200,5])\n",
    "#         sim,_,_ = model_mc.run_simulation(0,-1)\n",
    "#         sim['Capital'].plot()\n",
    "\n",
    "#     plt.plot([84,84],[9.9e5,10.5e5])\n",
    "#     plt.plot([168,168],[9.9e5,10.5e5])"
   ]
  }
 ],
 "metadata": {
  "kernelspec": {
   "display_name": "Python 3",
   "language": "python",
   "name": "python3"
  },
  "language_info": {
   "codemirror_mode": {
    "name": "ipython",
    "version": 3
   },
   "file_extension": ".py",
   "mimetype": "text/x-python",
   "name": "python",
   "nbconvert_exporter": "python",
   "pygments_lexer": "ipython3",
   "version": "3.10.4"
  }
 },
 "nbformat": 4,
 "nbformat_minor": 2
}
